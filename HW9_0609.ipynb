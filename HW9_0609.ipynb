{
 "cells": [
  {
   "cell_type": "code",
   "execution_count": 38,
   "metadata": {},
   "outputs": [],
   "source": [
    "import requests"
   ]
  },
  {
   "cell_type": "markdown",
   "metadata": {},
   "source": [
    "#  網路爬蟲 爬出Ptt電影版文章標題\n",
    "參考 https://www.jamleecute.com/python-web-crawler-beautifulsoup-網路爬蟲/"
   ]
  },
  {
   "cell_type": "code",
   "execution_count": 44,
   "metadata": {},
   "outputs": [],
   "source": [
    "url=\"https://www.ptt.cc/bbs/movie/index9002.html\"\n",
    "\n",
    "r=requests.get(url)\n",
    "\n",
    "# 將取得的網頁轉成文字檔\n",
    "web_content=r.text"
   ]
  },
  {
   "cell_type": "code",
   "execution_count": 47,
   "metadata": {},
   "outputs": [
    {
     "name": "stdout",
     "output_type": "stream",
     "text": [
      "[<div class=\"title\">\n",
      "<a href=\"/bbs/movie/M.1591659627.A.925.html\">[問片] 落後地區村莊黑幫的電影</a>\n",
      "</div>, <div class=\"title\">\n",
      "<a href=\"/bbs/movie/M.1591663709.A.DA5.html\">[問片] 機器人殺人 人類變種</a>\n",
      "</div>, <div class=\"title\">\n",
      "<a href=\"/bbs/movie/M.1591665959.A.A7A.html\">[新聞] 《名偵探柯南》劇場版宣布延檔1年！ </a>\n",
      "</div>, <div class=\"title\">\n",
      "<a href=\"/bbs/movie/M.1591667597.A.4CF.html\">Re: [討論] 《Hans Zimmer電影音樂會》問卷</a>\n",
      "</div>, <div class=\"title\">\n",
      "<a href=\"/bbs/movie/M.1591668113.A.AFD.html\">[新聞] 黃秋生、林嘉欣聯手主演《死因無可疑》</a>\n",
      "</div>, <div class=\"title\">\n",
      "<a href=\"/bbs/movie/M.1591670862.A.7D4.html\">[好雷] 派對才要開始The Party's Just Beginning</a>\n",
      "</div>, <div class=\"title\">\n",
      "<a href=\"/bbs/movie/M.1591672450.A.358.html\">[討論] I MAX黑暗騎士的小細節心得</a>\n",
      "</div>, <div class=\"title\">\n",
      "<a href=\"/bbs/movie/M.1591673030.A.9AC.html\">Re: [討論] 黑暗騎士中想不透的點</a>\n",
      "</div>, <div class=\"title\">\n",
      "<a href=\"/bbs/movie/M.1591675283.A.D4A.html\">[好雷] 愛上變身情人The Beauty Inside </a>\n",
      "</div>, <div class=\"title\">\n",
      "<a href=\"/bbs/movie/M.1591676005.A.326.html\">[片單] 被入侵而文明崩壞的片</a>\n",
      "</div>, <div class=\"title\">\n",
      "<a href=\"/bbs/movie/M.1591676709.A.C9B.html\">[新聞] 新版《蝙蝠俠》傳將起用全新「小丑」演員</a>\n",
      "</div>, <div class=\"title\">\n",
      "<a href=\"/bbs/movie/M.1591676719.A.218.html\">[ 超負雷]  魔鬼剋星(女)</a>\n",
      "</div>, <div class=\"title\">\n",
      "<a href=\"/bbs/movie/M.1591676872.A.25F.html\">Re: [問片] 一對情侶買新屋但出不去的片</a>\n",
      "</div>, <div class=\"title\">\n",
      "\t\t\t\n",
      "\t\t\t\t(本文已被刪除) [filmwalker]\n",
      "\t\t\t\n",
      "\t\t\t</div>, <div class=\"title\">\n",
      "<a href=\"/bbs/movie/M.1591682311.A.FCD.html\">[新聞] 《鬥破蒼穹》系列電影啟動 首款概念海報</a>\n",
      "</div>, <div class=\"title\">\n",
      "<a href=\"/bbs/movie/M.1591682548.A.6FE.html\">[新聞] 李現客串「中國機長」 靠「一句台詞」搶</a>\n",
      "</div>, <div class=\"title\">\n",
      "\t\t\t\n",
      "\t\t\t\t(本文已被刪除) [modem]\n",
      "\t\t\t\n",
      "\t\t\t</div>, <div class=\"title\">\n",
      "<a href=\"/bbs/movie/M.1591684428.A.5C2.html\">[情報] 樂搜搜片報 無名戰士/無聲救援/孩子的自</a>\n",
      "</div>, <div class=\"title\">\n",
      "<a href=\"/bbs/movie/M.1591684826.A.F43.html\">[好雷] 心之谷</a>\n",
      "</div>, <div class=\"title\">\n",
      "<a href=\"/bbs/movie/M.1591693608.A.E5E.html\">[討論] 班恩後來跑去哪了?</a>\n",
      "</div>]\n"
     ]
    }
   ],
   "source": [
    "from bs4 import BeautifulSoup\n",
    "# 以 Beautiful Soup 解析 HTML 程式碼 : \n",
    "soup = BeautifulSoup(web_content, 'lxml')\n",
    "\n",
    "# 找出所有div標籤下 class_=\"board-name\"的標籤\n",
    "\n",
    "titleElements = soup.find_all('div', class_=\"title\")\n",
    "print(titleElements)"
   ]
  },
  {
   "cell_type": "code",
   "execution_count": 49,
   "metadata": {},
   "outputs": [
    {
     "data": {
      "text/plain": [
       "['\\n[問片] 落後地區村莊黑幫的電影\\n',\n",
       " '\\n[問片] 機器人殺人 人類變種\\n',\n",
       " '\\n[新聞] 《名偵探柯南》劇場版宣布延檔1年！ \\n',\n",
       " '\\nRe: [討論] 《Hans Zimmer電影音樂會》問卷\\n',\n",
       " '\\n[新聞] 黃秋生、林嘉欣聯手主演《死因無可疑》\\n',\n",
       " \"\\n[好雷] 派對才要開始The Party's Just Beginning\\n\",\n",
       " '\\n[討論] I MAX黑暗騎士的小細節心得\\n',\n",
       " '\\nRe: [討論] 黑暗騎士中想不透的點\\n',\n",
       " '\\n[好雷] 愛上變身情人The Beauty Inside \\n',\n",
       " '\\n[片單] 被入侵而文明崩壞的片\\n',\n",
       " '\\n[新聞] 新版《蝙蝠俠》傳將起用全新「小丑」演員\\n',\n",
       " '\\n[ 超負雷]  魔鬼剋星(女)\\n',\n",
       " '\\nRe: [問片] 一對情侶買新屋但出不去的片\\n',\n",
       " '\\n\\t\\t\\t\\n\\t\\t\\t\\t(本文已被刪除) [filmwalker]\\n\\t\\t\\t\\n\\t\\t\\t',\n",
       " '\\n[新聞] 《鬥破蒼穹》系列電影啟動 首款概念海報\\n',\n",
       " '\\n[新聞] 李現客串「中國機長」 靠「一句台詞」搶\\n',\n",
       " '\\n\\t\\t\\t\\n\\t\\t\\t\\t(本文已被刪除) [modem]\\n\\t\\t\\t\\n\\t\\t\\t',\n",
       " '\\n[情報] 樂搜搜片報 無名戰士/無聲救援/孩子的自\\n',\n",
       " '\\n[好雷] 心之谷\\n',\n",
       " '\\n[討論] 班恩後來跑去哪了?\\n']"
      ]
     },
     "execution_count": 49,
     "metadata": {},
     "output_type": "execute_result"
    }
   ],
   "source": [
    "titleNames = [e.text for e in titleElements]\n",
    "titleNames"
   ]
  },
  {
   "cell_type": "code",
   "execution_count": null,
   "metadata": {},
   "outputs": [],
   "source": []
  }
 ],
 "metadata": {
  "kernelspec": {
   "display_name": "Python 3",
   "language": "python",
   "name": "python3"
  },
  "language_info": {
   "codemirror_mode": {
    "name": "ipython",
    "version": 3
   },
   "file_extension": ".py",
   "mimetype": "text/x-python",
   "name": "python",
   "nbconvert_exporter": "python",
   "pygments_lexer": "ipython3",
   "version": "3.7.3"
  }
 },
 "nbformat": 4,
 "nbformat_minor": 2
}

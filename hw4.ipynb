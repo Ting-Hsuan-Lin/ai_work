{
 "cells": [
  {
   "cell_type": "code",
   "execution_count": 1,
   "metadata": {},
   "outputs": [],
   "source": [
    "%matplotlib inline\n",
    "\n",
    "import numpy as np\n",
    "import matplotlib.pyplot as plt\n",
    "\n",
    "import tensorflow as tf\n",
    "\n"
   ]
  },
  {
   "cell_type": "code",
   "execution_count": 2,
   "metadata": {},
   "outputs": [],
   "source": [
    "## 1. 讀入 MNSIT 數據集\n"
   ]
  },
  {
   "cell_type": "code",
   "execution_count": 3,
   "metadata": {},
   "outputs": [],
   "source": [
    "from tensorflow.keras.datasets import fashion_mnist\n"
   ]
  },
  {
   "cell_type": "code",
   "execution_count": 4,
   "metadata": {},
   "outputs": [],
   "source": [
    "(x_train, y_train), (x_test, y_test)=fashion_mnist.load_data() #x是圖片 y是數值"
   ]
  },
  {
   "cell_type": "code",
   "execution_count": 5,
   "metadata": {},
   "outputs": [
    {
     "data": {
      "text/plain": [
       "60000"
      ]
     },
     "execution_count": 5,
     "metadata": {},
     "output_type": "execute_result"
    }
   ],
   "source": [
    "len(x_train)"
   ]
  },
  {
   "cell_type": "code",
   "execution_count": 6,
   "metadata": {},
   "outputs": [
    {
     "data": {
      "text/plain": [
       "60000"
      ]
     },
     "execution_count": 6,
     "metadata": {},
     "output_type": "execute_result"
    }
   ],
   "source": [
    "len(y_train)"
   ]
  },
  {
   "cell_type": "code",
   "execution_count": 7,
   "metadata": {},
   "outputs": [
    {
     "data": {
      "text/plain": [
       "10000"
      ]
     },
     "execution_count": 7,
     "metadata": {},
     "output_type": "execute_result"
    }
   ],
   "source": [
    "len(y_test)"
   ]
  },
  {
   "cell_type": "code",
   "execution_count": 8,
   "metadata": {},
   "outputs": [],
   "source": [
    "class_names = ['T-shirt/top', 'Trouser', 'Pullover', 'Dress', 'Coat',\n",
    "               'Sandal', 'Shirt', 'Sneaker', 'Bag', 'Ankle boot']"
   ]
  },
  {
   "cell_type": "code",
   "execution_count": 10,
   "metadata": {},
   "outputs": [],
   "source": [
    "##資料整理\n"
   ]
  },
  {
   "cell_type": "code",
   "execution_count": 11,
   "metadata": {},
   "outputs": [
    {
     "data": {
      "text/plain": [
       "(60000, 28, 28)"
      ]
     },
     "execution_count": 11,
     "metadata": {},
     "output_type": "execute_result"
    }
   ],
   "source": [
    "x_train.shape"
   ]
  },
  {
   "cell_type": "code",
   "execution_count": 12,
   "metadata": {},
   "outputs": [
    {
     "data": {
      "text/plain": [
       "(10000, 28, 28)"
      ]
     },
     "execution_count": 12,
     "metadata": {},
     "output_type": "execute_result"
    }
   ],
   "source": [
    "x_test.shape"
   ]
  },
  {
   "cell_type": "code",
   "execution_count": 13,
   "metadata": {},
   "outputs": [],
   "source": [
    "x_train=x_train/255\n",
    "x_test=x_test/255\n",
    "\n",
    "x_train=x_train.reshape(60000,28*28)\n",
    "x_test=x_test.reshape(10000,28*28)\n",
    "\n"
   ]
  },
  {
   "cell_type": "code",
   "execution_count": 14,
   "metadata": {},
   "outputs": [],
   "source": [
    "from tensorflow.keras.utils import to_categorical  ##將向量轉為二進位制"
   ]
  },
  {
   "cell_type": "code",
   "execution_count": 15,
   "metadata": {},
   "outputs": [],
   "source": [
    "y_train= to_categorical(y_train, 10)\n",
    "y_test= to_categorical(y_test, 10)"
   ]
  },
  {
   "cell_type": "code",
   "execution_count": 16,
   "metadata": {},
   "outputs": [
    {
     "data": {
      "text/plain": [
       "array([0., 0., 0., 0., 1., 0., 0., 0., 0., 0.], dtype=float32)"
      ]
     },
     "execution_count": 16,
     "metadata": {},
     "output_type": "execute_result"
    }
   ],
   "source": [
    "y_train[22]"
   ]
  },
  {
   "cell_type": "code",
   "execution_count": 17,
   "metadata": {},
   "outputs": [],
   "source": [
    "##打造神經網路"
   ]
  },
  {
   "cell_type": "code",
   "execution_count": 19,
   "metadata": {},
   "outputs": [],
   "source": [
    "from tensorflow.keras.models import Sequential\n",
    "from tensorflow.keras.layers import Dense\n",
    "from tensorflow.keras.optimizers import SGD"
   ]
  },
  {
   "cell_type": "code",
   "execution_count": 20,
   "metadata": {},
   "outputs": [],
   "source": [
    "model = Sequential()"
   ]
  },
  {
   "cell_type": "code",
   "execution_count": 22,
   "metadata": {},
   "outputs": [],
   "source": [
    "model.add(Dense(100, input_dim=784, activation='relu')) #3個隱藏層    #設定神經元數量=100\n",
    "model.add(Dense(100, activation='relu'))                #設定神經元數量=100\n",
    "model.add(Dense(10,activation='softmax'))               #因為輸出有十種結果 所以神經元數量=10\n",
    "          "
   ]
  },
  {
   "cell_type": "code",
   "execution_count": 23,
   "metadata": {},
   "outputs": [],
   "source": [
    "model.compile(loss='mse',optimizer=SGD(lr=0.06), metrics=['accuracy'])  #損失函數使用mse lr=0.06"
   ]
  },
  {
   "cell_type": "code",
   "execution_count": 24,
   "metadata": {
    "scrolled": true
   },
   "outputs": [
    {
     "name": "stdout",
     "output_type": "stream",
     "text": [
      "Model: \"sequential\"\n",
      "_________________________________________________________________\n",
      "Layer (type)                 Output Shape              Param #   \n",
      "=================================================================\n",
      "dense (Dense)                (None, 100)               78500     \n",
      "_________________________________________________________________\n",
      "dense_1 (Dense)              (None, 100)               10100     \n",
      "_________________________________________________________________\n",
      "dense_2 (Dense)              (None, 10)                1010      \n",
      "=================================================================\n",
      "Total params: 89,610\n",
      "Trainable params: 89,610\n",
      "Non-trainable params: 0\n",
      "_________________________________________________________________\n"
     ]
    }
   ],
   "source": [
    "model.summary()"
   ]
  },
  {
   "cell_type": "code",
   "execution_count": 26,
   "metadata": {
    "scrolled": true
   },
   "outputs": [
    {
     "name": "stdout",
     "output_type": "stream",
     "text": [
      "Train on 60000 samples\n",
      "Epoch 1/20\n",
      "60000/60000 [==============================] - 5s 87us/sample - loss: 0.0223 - accuracy: 0.8493\n",
      "Epoch 2/20\n",
      "60000/60000 [==============================] - 3s 57us/sample - loss: 0.0221 - accuracy: 0.8510\n",
      "Epoch 3/20\n",
      "60000/60000 [==============================] - 3s 49us/sample - loss: 0.0220 - accuracy: 0.8522\n",
      "Epoch 4/20\n",
      "60000/60000 [==============================] - 4s 59us/sample - loss: 0.0217 - accuracy: 0.8537\n",
      "Epoch 5/20\n",
      "60000/60000 [==============================] - 3s 42us/sample - loss: 0.0216 - accuracy: 0.8555\n",
      "Epoch 6/20\n",
      "60000/60000 [==============================] - 3s 46us/sample - loss: 0.0214 - accuracy: 0.8570\n",
      "Epoch 7/20\n",
      "60000/60000 [==============================] - 4s 62us/sample - loss: 0.0213 - accuracy: 0.8573\n",
      "Epoch 8/20\n",
      "60000/60000 [==============================] - 3s 55us/sample - loss: 0.0211 - accuracy: 0.8583\n",
      "Epoch 9/20\n",
      "60000/60000 [==============================] - 4s 73us/sample - loss: 0.0210 - accuracy: 0.8592\n",
      "Epoch 10/20\n",
      "60000/60000 [==============================] - 3s 55us/sample - loss: 0.0209 - accuracy: 0.8593\n",
      "Epoch 11/20\n",
      "60000/60000 [==============================] - 2s 41us/sample - loss: 0.0207 - accuracy: 0.8604\n",
      "Epoch 12/20\n",
      "60000/60000 [==============================] - 3s 42us/sample - loss: 0.0206 - accuracy: 0.8619\n",
      "Epoch 13/20\n",
      "60000/60000 [==============================] - 3s 42us/sample - loss: 0.0205 - accuracy: 0.8624\n",
      "Epoch 14/20\n",
      "60000/60000 [==============================] - 3s 44us/sample - loss: 0.0203 - accuracy: 0.8633\n",
      "Epoch 15/20\n",
      "60000/60000 [==============================] - 3s 44us/sample - loss: 0.0202 - accuracy: 0.8640\n",
      "Epoch 16/20\n",
      "60000/60000 [==============================] - 3s 48us/sample - loss: 0.0201 - accuracy: 0.8649\n",
      "Epoch 17/20\n",
      "60000/60000 [==============================] - 2s 41us/sample - loss: 0.0200 - accuracy: 0.8654\n",
      "Epoch 18/20\n",
      "60000/60000 [==============================] - 3s 43us/sample - loss: 0.0199 - accuracy: 0.8661\n",
      "Epoch 19/20\n",
      "60000/60000 [==============================] - 3s 44us/sample - loss: 0.0198 - accuracy: 0.8669\n",
      "Epoch 20/20\n",
      "60000/60000 [==============================] - 3s 43us/sample - loss: 0.0197 - accuracy: 0.8677\n"
     ]
    },
    {
     "data": {
      "text/plain": [
       "<tensorflow.python.keras.callbacks.History at 0x21525f09908>"
      ]
     },
     "execution_count": 26,
     "metadata": {},
     "output_type": "execute_result"
    }
   ],
   "source": [
    "model.fit(x_train, y_train, batch_size=100, epochs=20)          #批量訓練每次100筆資料 訓練20次"
   ]
  },
  {
   "cell_type": "code",
   "execution_count": 27,
   "metadata": {},
   "outputs": [],
   "source": [
    "result= model.predict_classes(x_test)"
   ]
  },
  {
   "cell_type": "code",
   "execution_count": 45,
   "metadata": {},
   "outputs": [
    {
     "name": "stdout",
     "output_type": "stream",
     "text": [
      "This is a T-shirt/top\n"
     ]
    },
    {
     "data": {
      "text/plain": [
       "<matplotlib.image.AxesImage at 0x2152bd585c0>"
      ]
     },
     "execution_count": 45,
     "metadata": {},
     "output_type": "execute_result"
    },
    {
     "data": {
      "image/png": "[encoded data removed]",
      "text/plain": [
       "<Figure size 432x288 with 1 Axes>"
      ]
     },
     "metadata": {
      "needs_background": "light"
     },
     "output_type": "display_data"
    }
   ],
   "source": [
    "n=66\n",
    "print('This is a',class_names[result[n]])\n",
    "plt.imshow(x_test[n].reshape(28,28),cmap='Greys')\n"
   ]
  },
  {
   "cell_type": "code",
   "execution_count": 39,
   "metadata": {},
   "outputs": [],
   "source": [
    "model2=Sequential()"
   ]
  },
  {
   "cell_type": "code",
   "execution_count": 43,
   "metadata": {
    "scrolled": true
   },
   "outputs": [
    {
     "name": "stdout",
     "output_type": "stream",
     "text": [
      "Model: \"sequential_1\"\n",
      "_________________________________________________________________\n",
      "Layer (type)                 Output Shape              Param #   \n",
      "=================================================================\n",
      "dense_3 (Dense)              (None, 126)               98910     \n",
      "_________________________________________________________________\n",
      "dense_4 (Dense)              (None, 100)               12700     \n",
      "_________________________________________________________________\n",
      "dense_5 (Dense)              (None, 10)                1010      \n",
      "_________________________________________________________________\n",
      "dense_6 (Dense)              (None, 126)               1386      \n",
      "_________________________________________________________________\n",
      "dense_7 (Dense)              (None, 50)                6350      \n",
      "_________________________________________________________________\n",
      "dense_8 (Dense)              (None, 10)                510       \n",
      "=================================================================\n",
      "Total params: 120,866\n",
      "Trainable params: 120,866\n",
      "Non-trainable params: 0\n",
      "_________________________________________________________________\n"
     ]
    }
   ],
   "source": [
    "model2.add(Dense(126, input_dim=784, activation='relu')) \n",
    "model2.add(Dense(50, activation='relu'))                \n",
    "model2.add(Dense(10,activation='softmax')) \n",
    "model2.compile(loss='mse',optimizer=SGD(lr=0.06), metrics=['accuracy'])\n",
    "model2.summary()"
   ]
  },
  {
   "cell_type": "code",
   "execution_count": 44,
   "metadata": {
    "scrolled": true
   },
   "outputs": [
    {
     "name": "stdout",
     "output_type": "stream",
     "text": [
      "Train on 60000 samples\n",
      "Epoch 1/20\n",
      "60000/60000 [==============================] - 4s 59us/sample - loss: 0.0901 - accuracy: 0.0195\n",
      "Epoch 2/20\n",
      "60000/60000 [==============================] - 2s 29us/sample - loss: 0.0899 - accuracy: 0.0216\n",
      "Epoch 3/20\n",
      "60000/60000 [==============================] - 2s 28us/sample - loss: 0.0897 - accuracy: 0.0243\n",
      "Epoch 4/20\n",
      "60000/60000 [==============================] - 2s 25us/sample - loss: 0.0895 - accuracy: 0.0288s - loss: 0.0895 - accuracy: 0.02\n",
      "Epoch 5/20\n",
      "60000/60000 [==============================] - 2s 26us/sample - loss: 0.0894 - accuracy: 0.0386\n",
      "Epoch 6/20\n",
      "60000/60000 [==============================] - 2s 27us/sample - loss: 0.0892 - accuracy: 0.1440\n",
      "Epoch 7/20\n",
      "60000/60000 [==============================] - 2s 33us/sample - loss: 0.0890 - accuracy: 0.2170\n",
      "Epoch 8/20\n",
      "60000/60000 [==============================] - 2s 27us/sample - loss: 0.0888 - accuracy: 0.2808\n",
      "Epoch 9/20\n",
      "60000/60000 [==============================] - 2s 28us/sample - loss: 0.0887 - accuracy: 0.3142\n",
      "Epoch 10/20\n",
      "60000/60000 [==============================] - 2s 28us/sample - loss: 0.0885 - accuracy: 0.3821\n",
      "Epoch 11/20\n",
      "60000/60000 [==============================] - 2s 27us/sample - loss: 0.0883 - accuracy: 0.4331\n",
      "Epoch 12/20\n",
      "60000/60000 [==============================] - 2s 27us/sample - loss: 0.0881 - accuracy: 0.4777\n",
      "Epoch 13/20\n",
      "60000/60000 [==============================] - 2s 34us/sample - loss: 0.0880 - accuracy: 0.5156\n",
      "Epoch 14/20\n",
      "60000/60000 [==============================] - 2s 35us/sample - loss: 0.0878 - accuracy: 0.5638\n",
      "Epoch 15/20\n",
      "60000/60000 [==============================] - 2s 29us/sample - loss: 0.0876 - accuracy: 0.5711\n",
      "Epoch 16/20\n",
      "60000/60000 [==============================] - 2s 32us/sample - loss: 0.0874 - accuracy: 0.5721\n",
      "Epoch 17/20\n",
      "60000/60000 [==============================] - 2s 27us/sample - loss: 0.0872 - accuracy: 0.5720s - loss: 0.0872 - accuracy: 0.\n",
      "Epoch 18/20\n",
      "60000/60000 [==============================] - 2s 31us/sample - loss: 0.0870 - accuracy: 0.5720\n",
      "Epoch 19/20\n",
      "60000/60000 [==============================] - 2s 40us/sample - loss: 0.0868 - accuracy: 0.5723\n",
      "Epoch 20/20\n",
      "60000/60000 [==============================] - 1s 24us/sample - loss: 0.0866 - accuracy: 0.5724\n"
     ]
    },
    {
     "data": {
      "text/plain": [
       "<tensorflow.python.keras.callbacks.History at 0x215267ce470>"
      ]
     },
     "execution_count": 44,
     "metadata": {},
     "output_type": "execute_result"
    }
   ],
   "source": [
    "model2.fit(x_train, y_train, batch_size=1000, epochs=20)"
   ]
  },
  {
   "cell_type": "code",
   "execution_count": null,
   "metadata": {},
   "outputs": [],
   "source": [
    "於第一組model中，設了3個隱藏層，分別有100,100,10個神經元，並以0.08的學習率去訓練，最後得出的正確率為0.8677\n",
    "而第二組model2中，設了5個隱藏層，而正確率卻只剩0.5724"
   ]
  }
 ],
 "metadata": {
  "kernelspec": {
   "display_name": "Python 3",
   "language": "python",
   "name": "python3"
  },
  "language_info": {
   "codemirror_mode": {
    "name": "ipython",
    "version": 3
   },
   "file_extension": ".py",
   "mimetype": "text/x-python",
   "name": "python",
   "nbconvert_exporter": "python",
   "pygments_lexer": "ipython3",
   "version": "3.7.3"
  }
 },
 "nbformat": 4,
 "nbformat_minor": 2
}

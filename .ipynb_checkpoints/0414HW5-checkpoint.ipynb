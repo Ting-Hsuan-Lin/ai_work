{
 "cells": [
  {
   "cell_type": "markdown",
   "metadata": {},
   "source": [
    "105308045 風管四 林庭萱\n",
    "\n",
    "本次更改的地方：\n",
    "1. kenel size改為(5,5)\n",
    "2. fliter數量改為(16,36,56)\n",
    "3. 全連結層改為兩層分別是(30,80) \n",
    "4. 訓練資料每次100筆共訓練20次\n",
    "\n",
    "跑出後的正確率為0.8563"
   ]
  },
  {
   "cell_type": "code",
   "execution_count": 1,
   "metadata": {},
   "outputs": [],
   "source": [
    "%matplotlib inline\n",
    "\n",
    "import numpy as np\n",
    "import matplotlib.pyplot as plt\n",
    "import pandas as pd"
   ]
  },
  {
   "cell_type": "code",
   "execution_count": 2,
   "metadata": {},
   "outputs": [],
   "source": [
    "from tensorflow.keras.datasets import fashion_mnist\n",
    "(x_train, y_train),(x_test, y_test)=fashion_mnist.load_data()"
   ]
  },
  {
   "cell_type": "markdown",
   "metadata": {},
   "source": [
    "1. 資料處理"
   ]
  },
  {
   "cell_type": "code",
   "execution_count": 3,
   "metadata": {},
   "outputs": [],
   "source": [
    "x_train=x_train.reshape(60000, 28, 28, 1) /255"
   ]
  },
  {
   "cell_type": "code",
   "execution_count": 4,
   "metadata": {},
   "outputs": [],
   "source": [
    "x_test=x_test.reshape(10000, 28, 28, 1)/255"
   ]
  },
  {
   "cell_type": "markdown",
   "metadata": {},
   "source": [
    "2. 將向量轉為二進位制"
   ]
  },
  {
   "cell_type": "code",
   "execution_count": 6,
   "metadata": {},
   "outputs": [],
   "source": [
    "from tensorflow.keras.utils import to_categorical\n",
    "y_train = to_categorical(y_train, 10)\n",
    "y_test = to_categorical(y_test, 10)"
   ]
  },
  {
   "cell_type": "markdown",
   "metadata": {},
   "source": [
    "3. 讀入必要函式"
   ]
  },
  {
   "cell_type": "code",
   "execution_count": 7,
   "metadata": {},
   "outputs": [],
   "source": [
    "from tensorflow.keras.models import Sequential\n",
    "from tensorflow.keras.layers import Conv2D, MaxPooling2D\n",
    "from tensorflow.keras.layers import Dense, Flatten\n",
    "from tensorflow.keras.optimizers import SGD"
   ]
  },
  {
   "cell_type": "markdown",
   "metadata": {},
   "source": [
    "4. 建立模組"
   ]
  },
  {
   "cell_type": "code",
   "execution_count": 8,
   "metadata": {},
   "outputs": [],
   "source": [
    "model= Sequential()\n",
    "#第一層\n",
    "model.add(Conv2D(16, (5,5), padding='same', input_shape=(28, 28, 1), activation='relu'))\n",
    "model.add(MaxPooling2D(pool_size=(2,2)))  #output(14,14,16)\n",
    "\n",
    "#第二層\n",
    "model.add(Conv2D(36, (5,5), padding='same', activation='relu')) #output(14,14,36)\n",
    "model.add(MaxPooling2D(pool_size=(2,2))) #output(7,7,36)\n",
    "\n",
    "#第三層\n",
    "model.add(Conv2D(56, (5,5), padding='same', activation='relu')) #output(7,7,56)\n",
    "model.add(MaxPooling2D(pool_size=(2,2))) #output(3,3,56)"
   ]
  },
  {
   "cell_type": "markdown",
   "metadata": {},
   "source": [
    "5. 拉平"
   ]
  },
  {
   "cell_type": "code",
   "execution_count": 9,
   "metadata": {},
   "outputs": [],
   "source": [
    "model.add(Flatten()) "
   ]
  },
  {
   "cell_type": "code",
   "execution_count": 10,
   "metadata": {},
   "outputs": [],
   "source": [
    "model.add(Dense(30, activation='relu'))  #第一層 輸出神經元數量=30\n",
    "model.add(Dense(80, activation='relu')) #第二層 輸出神經元數量=80\n",
    "model.add(Dense(10, activation='softmax'))  #輸出10的矩陣 加起來=1"
   ]
  },
  {
   "cell_type": "code",
   "execution_count": 11,
   "metadata": {},
   "outputs": [
    {
     "name": "stdout",
     "output_type": "stream",
     "text": [
      "Model: \"sequential\"\n",
      "_________________________________________________________________\n",
      "Layer (type)                 Output Shape              Param #   \n",
      "=================================================================\n",
      "conv2d (Conv2D)              (None, 28, 28, 16)        416       \n",
      "_________________________________________________________________\n",
      "max_pooling2d (MaxPooling2D) (None, 14, 14, 16)        0         \n",
      "_________________________________________________________________\n",
      "conv2d_1 (Conv2D)            (None, 14, 14, 36)        14436     \n",
      "_________________________________________________________________\n",
      "max_pooling2d_1 (MaxPooling2 (None, 7, 7, 36)          0         \n",
      "_________________________________________________________________\n",
      "conv2d_2 (Conv2D)            (None, 7, 7, 56)          50456     \n",
      "_________________________________________________________________\n",
      "max_pooling2d_2 (MaxPooling2 (None, 3, 3, 56)          0         \n",
      "_________________________________________________________________\n",
      "flatten (Flatten)            (None, 504)               0         \n",
      "_________________________________________________________________\n",
      "dense (Dense)                (None, 30)                15150     \n",
      "_________________________________________________________________\n",
      "dense_1 (Dense)              (None, 80)                2480      \n",
      "_________________________________________________________________\n",
      "dense_2 (Dense)              (None, 10)                810       \n",
      "=================================================================\n",
      "Total params: 83,748\n",
      "Trainable params: 83,748\n",
      "Non-trainable params: 0\n",
      "_________________________________________________________________\n"
     ]
    }
   ],
   "source": [
    "model.summary()"
   ]
  },
  {
   "cell_type": "markdown",
   "metadata": {},
   "source": [
    "6. 開始訓練"
   ]
  },
  {
   "cell_type": "code",
   "execution_count": 12,
   "metadata": {},
   "outputs": [],
   "source": [
    "model.compile(loss='mse', optimizer=SGD(lr=0.087), metrics=['accuracy'])"
   ]
  },
  {
   "cell_type": "code",
   "execution_count": 13,
   "metadata": {},
   "outputs": [
    {
     "name": "stdout",
     "output_type": "stream",
     "text": [
      "Train on 60000 samples\n",
      "Epoch 1/20\n",
      "60000/60000 [==============================] - 105s 2ms/sample - loss: 0.0896 - accuracy: 0.2147\n",
      "Epoch 2/20\n",
      "60000/60000 [==============================] - 101s 2ms/sample - loss: 0.0840 - accuracy: 0.3278\n",
      "Epoch 3/20\n",
      "60000/60000 [==============================] - 95s 2ms/sample - loss: 0.0502 - accuracy: 0.6217\n",
      "Epoch 4/20\n",
      "60000/60000 [==============================] - 95s 2ms/sample - loss: 0.0395 - accuracy: 0.7096\n",
      "Epoch 5/20\n",
      "60000/60000 [==============================] - 95s 2ms/sample - loss: 0.0357 - accuracy: 0.7403\n",
      "Epoch 6/20\n",
      "60000/60000 [==============================] - 95s 2ms/sample - loss: 0.0333 - accuracy: 0.7616\n",
      "Epoch 7/20\n",
      "60000/60000 [==============================] - 95s 2ms/sample - loss: 0.0312 - accuracy: 0.7782\n",
      "Epoch 8/20\n",
      "60000/60000 [==============================] - 95s 2ms/sample - loss: 0.0298 - accuracy: 0.7900\n",
      "Epoch 9/20\n",
      "60000/60000 [==============================] - 97s 2ms/sample - loss: 0.0286 - accuracy: 0.8010\n",
      "Epoch 10/20\n",
      "60000/60000 [==============================] - 96s 2ms/sample - loss: 0.0275 - accuracy: 0.8094\n",
      "Epoch 11/20\n",
      "60000/60000 [==============================] - 95s 2ms/sample - loss: 0.0266 - accuracy: 0.8154\n",
      "Epoch 12/20\n",
      "60000/60000 [==============================] - 96s 2ms/sample - loss: 0.0257 - accuracy: 0.8213\n",
      "Epoch 13/20\n",
      "60000/60000 [==============================] - 95s 2ms/sample - loss: 0.0249 - accuracy: 0.8273\n",
      "Epoch 14/20\n",
      "60000/60000 [==============================] - 95s 2ms/sample - loss: 0.0241 - accuracy: 0.8331\n",
      "Epoch 15/20\n",
      "60000/60000 [==============================] - 98s 2ms/sample - loss: 0.0236 - accuracy: 0.8369\n",
      "Epoch 16/20\n",
      "60000/60000 [==============================] - 95s 2ms/sample - loss: 0.0229 - accuracy: 0.8421\n",
      "Epoch 17/20\n",
      "60000/60000 [==============================] - 97s 2ms/sample - loss: 0.0224 - accuracy: 0.8463\n",
      "Epoch 18/20\n",
      "60000/60000 [==============================] - 99s 2ms/sample - loss: 0.0219 - accuracy: 0.8492\n",
      "Epoch 19/20\n",
      "60000/60000 [==============================] - 143s 2ms/sample - loss: 0.0213 - accuracy: 0.8522\n",
      "Epoch 20/20\n",
      "60000/60000 [==============================] - 128s 2ms/sample - loss: 0.0209 - accuracy: 0.8563 - loss: 0.0209 - accu\n"
     ]
    },
    {
     "data": {
      "text/plain": [
       "<tensorflow.python.keras.callbacks.History at 0x1dad9841240>"
      ]
     },
     "execution_count": 13,
     "metadata": {},
     "output_type": "execute_result"
    }
   ],
   "source": [
    "model.fit(x_train, y_train, batch_size=100, epochs=20) #批量訓練每次100筆資料 訓練20次"
   ]
  },
  {
   "cell_type": "markdown",
   "metadata": {},
   "source": [
    "7. 展示成果\n"
   ]
  },
  {
   "cell_type": "code",
   "execution_count": 16,
   "metadata": {},
   "outputs": [],
   "source": [
    "result = model.predict_classes(x_test)\n",
    "class_names = ['T-shirt/top', 'Trouser', 'Pullover', 'Dress', 'Coat',\n",
    "               'Sandal', 'Shirt', 'Sneaker', 'Bag', 'Ankle boot']\n",
    "def my_predict(n):\n",
    "    print('CNN 預測： ', class_names[result[n]])\n",
    "    x=x_test[n].reshape(28,28)\n",
    "    plt.imshow(x,cmap='Greys')\n",
    "    \n",
    "    "
   ]
  },
  {
   "cell_type": "code",
   "execution_count": 19,
   "metadata": {},
   "outputs": [
    {
     "name": "stdout",
     "output_type": "stream",
     "text": [
      "CNN 預測：  Sandal\n"
     ]
    },
    {
     "data": {
      "image/png": "[encoded data removed]",
      "text/plain": [
       "<Figure size 432x288 with 1 Axes>"
      ]
     },
     "metadata": {
      "needs_background": "light"
     },
     "output_type": "display_data"
    }
   ],
   "source": [
    "n=288\n",
    "my_predict(n)"
   ]
  },
  {
   "cell_type": "code",
   "execution_count": null,
   "metadata": {},
   "outputs": [],
   "source": []
  }
 ],
 "metadata": {
  "kernelspec": {
   "display_name": "Python 3",
   "language": "python",
   "name": "python3"
  },
  "language_info": {
   "codemirror_mode": {
    "name": "ipython",
    "version": 3
   },
   "file_extension": ".py",
   "mimetype": "text/x-python",
   "name": "python",
   "nbconvert_exporter": "python",
   "pygments_lexer": "ipython3",
   "version": "3.7.3"
  }
 },
 "nbformat": 4,
 "nbformat_minor": 2
}

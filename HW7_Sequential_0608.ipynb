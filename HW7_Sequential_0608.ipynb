{
 "cells": [
  {
   "cell_type": "markdown",
   "metadata": {},
   "source": [
    "# 風管四 105308045 林庭萱\n",
    "# 此次修改的部分\n",
    "# 第一組模型:\n",
    "1. 卷積層的filter(16, 128, 256)\n",
    "   全連接層的神經元>128\n",
    "# 第二組模型\n",
    "1. 將神經元修改為128,100,50\n",
    "   batch size改為200"
   ]
  },
  {
   "cell_type": "code",
   "execution_count": null,
   "metadata": {},
   "outputs": [],
   "source": [
    "# 01 導入套件"
   ]
  },
  {
   "cell_type": "code",
   "execution_count": 1,
   "metadata": {},
   "outputs": [],
   "source": [
    "\n",
    "import matplotlib.pyplot as plt\n",
    "import numpy as np\n",
    "\n",
    "# Layers for FNN\n",
    "from tensorflow.keras.models import Sequential\n",
    "from tensorflow.keras.layers import Dense\n",
    "from tensorflow.keras.layers import Flatten\n",
    "\n",
    "# Layers for CNN\n",
    "from tensorflow.keras.layers import Conv2D, MaxPool2D, GlobalAveragePooling2D\n",
    "\n",
    "from tensorflow.keras.optimizers import SGD, Adam\n",
    "\n",
    "# For data preprocessing\n",
    "from tensorflow.keras import datasets\n",
    "from tensorflow.keras.utils import to_categorical"
   ]
  },
  {
   "cell_type": "markdown",
   "metadata": {},
   "source": [
    "# 02 整理資料集 "
   ]
  },
  {
   "cell_type": "code",
   "execution_count": 2,
   "metadata": {},
   "outputs": [],
   "source": [
    "# 導入資料集\n",
    "name_list = ['airplane', 'automobile', 'bird', 'cat', 'deer', 'dog', 'frog', 'horse', 'ship', 'truck']"
   ]
  },
  {
   "cell_type": "code",
   "execution_count": 3,
   "metadata": {},
   "outputs": [
    {
     "name": "stdout",
     "output_type": "stream",
     "text": [
      "Downloading data from https://www.cs.toronto.edu/~kriz/cifar-10-python.tar.gz\n",
      "170500096/170498071 [==============================] - 37s 0us/step\n"
     ]
    }
   ],
   "source": [
    "#讀取資料\n",
    "(X_train, y_train0), (X_test, y_test0) = datasets.cifar10.load_data()\n",
    "\n",
    "#標準化\n",
    "X_train = X_train / X_train.max()\n",
    "X_test = X_test / X_test.max()\n",
    "\n",
    "# One-hot encoding\n",
    "y_train = to_categorical(y_train0, 10)\n",
    "y_test = to_categorical(y_test0, 10)\n"
   ]
  },
  {
   "cell_type": "code",
   "execution_count": 20,
   "metadata": {},
   "outputs": [
    {
     "data": {
      "image/png": "[encoded data removed]",
      "text/plain": [
       "<Figure size 432x288 with 1 Axes>"
      ]
     },
     "metadata": {
      "needs_background": "light"
     },
     "output_type": "display_data"
    }
   ],
   "source": [
    "idx = np.random.randint(X_train.shape[0])\n",
    "X_sample = X_train[idx]\n",
    "y_sample = y_train0[idx].squeeze()\n",
    "\n",
    "plt.imshow(X_sample)\n",
    "plt.title(name_list[y_sample])\n",
    "plt.axis('off');"
   ]
  },
  {
   "cell_type": "markdown",
   "metadata": {},
   "source": [
    "# 03 建立模型"
   ]
  },
  {
   "cell_type": "markdown",
   "metadata": {},
   "source": [
    "修改部分\n",
    "1. 卷積層的filter(16, 128, 256)\n",
    "2. 全連接層的神經元>128"
   ]
  },
  {
   "cell_type": "code",
   "execution_count": 24,
   "metadata": {},
   "outputs": [],
   "source": [
    "CNN_layers = [Conv2D(16, (3, 3), input_shape=(32, 32, 3), padding='same', activation='relu', name='Conv_1'),\n",
    "              MaxPool2D(),\n",
    "              Conv2D(128, (3, 3), padding='same', activation='relu', name='Conv_2'),\n",
    "              MaxPool2D(),\n",
    "              Conv2D(256, (3, 3), padding='same', activation='relu', name='Conv_3'),\n",
    "              GlobalAveragePooling2D()]\n",
    "\n",
    "FC_layers = [Dense(units=128, activation='relu'),\n",
    "             Dense(units=10, activation='softmax')]\n",
    "model_1 = Sequential(CNN_layers+FC_layers)"
   ]
  },
  {
   "cell_type": "code",
   "execution_count": 25,
   "metadata": {},
   "outputs": [
    {
     "name": "stdout",
     "output_type": "stream",
     "text": [
      "Model: \"sequential_6\"\n",
      "_________________________________________________________________\n",
      "Layer (type)                 Output Shape              Param #   \n",
      "=================================================================\n",
      "Conv_1 (Conv2D)              (None, 32, 32, 16)        448       \n",
      "_________________________________________________________________\n",
      "max_pooling2d_10 (MaxPooling (None, 16, 16, 16)        0         \n",
      "_________________________________________________________________\n",
      "Conv_2 (Conv2D)              (None, 16, 16, 128)       18560     \n",
      "_________________________________________________________________\n",
      "max_pooling2d_11 (MaxPooling (None, 8, 8, 128)         0         \n",
      "_________________________________________________________________\n",
      "Conv_3 (Conv2D)              (None, 8, 8, 256)         295168    \n",
      "_________________________________________________________________\n",
      "global_average_pooling2d_5 ( (None, 256)               0         \n",
      "_________________________________________________________________\n",
      "dense_8 (Dense)              (None, 128)               32896     \n",
      "_________________________________________________________________\n",
      "dense_9 (Dense)              (None, 10)                1290      \n",
      "=================================================================\n",
      "Total params: 348,362\n",
      "Trainable params: 348,362\n",
      "Non-trainable params: 0\n",
      "_________________________________________________________________\n"
     ]
    }
   ],
   "source": [
    "model_1.summary()"
   ]
  },
  {
   "cell_type": "markdown",
   "metadata": {},
   "source": [
    "# 04 訓練模型 "
   ]
  },
  {
   "cell_type": "code",
   "execution_count": 26,
   "metadata": {},
   "outputs": [],
   "source": [
    "model_1.compile(loss='categorical_crossentropy', \n",
    "              optimizer=Adam(),\n",
    "              metrics=['categorical_accuracy'])"
   ]
  },
  {
   "cell_type": "code",
   "execution_count": 28,
   "metadata": {},
   "outputs": [
    {
     "name": "stdout",
     "output_type": "stream",
     "text": [
      "Train on 50000 samples, validate on 10000 samples\n",
      "Epoch 1/10\n",
      "50000/50000 [==============================] - 154s 3ms/sample - loss: 0.9082 - categorical_accuracy: 0.6777 - val_loss: 0.9135 - val_categorical_accuracy: 0.6746\n",
      "Epoch 2/10\n",
      "50000/50000 [==============================] - 150s 3ms/sample - loss: 0.8858 - categorical_accuracy: 0.6876 - val_loss: 0.9132 - val_categorical_accuracy: 0.6773\n",
      "Epoch 3/10\n",
      "50000/50000 [==============================] - 163s 3ms/sample - loss: 0.8557 - categorical_accuracy: 0.6979 - val_loss: 0.8649 - val_categorical_accuracy: 0.6977\n",
      "Epoch 4/10\n",
      "50000/50000 [==============================] - 161s 3ms/sample - loss: 0.8247 - categorical_accuracy: 0.7079 - val_loss: 0.8371 - val_categorical_accuracy: 0.7043\n",
      "Epoch 5/10\n",
      "50000/50000 [==============================] - 151s 3ms/sample - loss: 0.7997 - categorical_accuracy: 0.7176 - val_loss: 0.8334 - val_categorical_accuracy: 0.7062\n",
      "Epoch 6/10\n",
      "50000/50000 [==============================] - 151s 3ms/sample - loss: 0.7678 - categorical_accuracy: 0.7294 - val_loss: 0.8111 - val_categorical_accuracy: 0.7166\n",
      "Epoch 7/10\n",
      "50000/50000 [==============================] - 150s 3ms/sample - loss: 0.7433 - categorical_accuracy: 0.7387 - val_loss: 0.7905 - val_categorical_accuracy: 0.7261\n",
      "Epoch 8/10\n",
      "50000/50000 [==============================] - 150s 3ms/sample - loss: 0.7204 - categorical_accuracy: 0.7450 - val_loss: 0.7928 - val_categorical_accuracy: 0.7221\n",
      "Epoch 9/10\n",
      "50000/50000 [==============================] - 149s 3ms/sample - loss: 0.6996 - categorical_accuracy: 0.7538 - val_loss: 0.8222 - val_categorical_accuracy: 0.7152\n",
      "Epoch 10/10\n",
      "50000/50000 [==============================] - 151s 3ms/sample - loss: 0.6773 - categorical_accuracy: 0.7627 - val_loss: 0.7847 - val_categorical_accuracy: 0.7283\n"
     ]
    },
    {
     "data": {
      "text/plain": [
       "<tensorflow.python.keras.callbacks.History at 0x238b6b8c550>"
      ]
     },
     "execution_count": 28,
     "metadata": {},
     "output_type": "execute_result"
    }
   ],
   "source": [
    "model_1.fit(X_train, y_train, \n",
    "          batch_size=128, \n",
    "          epochs=10,\n",
    "          validation_data=(X_test, y_test)\n",
    "          )"
   ]
  },
  {
   "cell_type": "markdown",
   "metadata": {},
   "source": [
    "# 05 建立另一個資料集"
   ]
  },
  {
   "cell_type": "code",
   "execution_count": 29,
   "metadata": {},
   "outputs": [
    {
     "name": "stdout",
     "output_type": "stream",
     "text": [
      "Downloading data from https://www.cs.toronto.edu/~kriz/cifar-100-python.tar.gz\n",
      "169009152/169001437 [==============================] - 48s 0us/step\n"
     ]
    }
   ],
   "source": [
    "# 讀取資料\n",
    "(U_train, v_train0), (U_test, v_test0) = datasets.cifar100.load_data()\n",
    "\n",
    "# 資料標準化\n",
    "U_train = U_train / U_train.max()\n",
    "U_test = U_test / U_test.max()\n",
    "\n",
    "# One-hot encoding\n",
    "v_train = to_categorical(v_train0, 100)\n",
    "v_test = to_categorical(v_test0, 100)"
   ]
  },
  {
   "cell_type": "markdown",
   "metadata": {},
   "source": [
    "修改部分:\n",
    "1. 將神經元修改為128,100,50"
   ]
  },
  {
   "cell_type": "code",
   "execution_count": 31,
   "metadata": {
    "scrolled": true
   },
   "outputs": [],
   "source": [
    "FC_layers_new  = [Dense(units=128, activation='relu'),\n",
    "                  Dense(units= 100, activation='relu'),\n",
    "                  Dense(units= 50, activation='relu'),\n",
    "                  Dense(units=10, activation='softmax')]"
   ]
  },
  {
   "cell_type": "code",
   "execution_count": 32,
   "metadata": {},
   "outputs": [
    {
     "name": "stdout",
     "output_type": "stream",
     "text": [
      "Model: \"sequential_7\"\n",
      "_________________________________________________________________\n",
      "Layer (type)                 Output Shape              Param #   \n",
      "=================================================================\n",
      "Conv_1 (Conv2D)              (None, 32, 32, 16)        448       \n",
      "_________________________________________________________________\n",
      "max_pooling2d_10 (MaxPooling (None, 16, 16, 16)        0         \n",
      "_________________________________________________________________\n",
      "Conv_2 (Conv2D)              (None, 16, 16, 128)       18560     \n",
      "_________________________________________________________________\n",
      "max_pooling2d_11 (MaxPooling (None, 8, 8, 128)         0         \n",
      "_________________________________________________________________\n",
      "Conv_3 (Conv2D)              (None, 8, 8, 256)         295168    \n",
      "_________________________________________________________________\n",
      "global_average_pooling2d_5 ( (None, 256)               0         \n",
      "_________________________________________________________________\n",
      "dense_13 (Dense)             (None, 128)               32896     \n",
      "_________________________________________________________________\n",
      "dense_14 (Dense)             (None, 100)               12900     \n",
      "_________________________________________________________________\n",
      "dense_15 (Dense)             (None, 50)                5050      \n",
      "_________________________________________________________________\n",
      "dense_16 (Dense)             (None, 10)                510       \n",
      "=================================================================\n",
      "Total params: 365,532\n",
      "Trainable params: 365,532\n",
      "Non-trainable params: 0\n",
      "_________________________________________________________________\n"
     ]
    }
   ],
   "source": [
    "#CNN層是借來的\n",
    "\n",
    "new_model = Sequential(CNN_layers+FC_layers_new)\n",
    "\n",
    "#檢視cnn曾是否確實被凍結\n",
    "new_model.summary()"
   ]
  },
  {
   "cell_type": "markdown",
   "metadata": {},
   "source": [
    "# 06 遷移學習訓練_Frozen狀況"
   ]
  },
  {
   "cell_type": "markdown",
   "metadata": {},
   "source": [
    "修改的部分\n",
    "1. batch size改為200"
   ]
  },
  {
   "cell_type": "code",
   "execution_count": 33,
   "metadata": {},
   "outputs": [
    {
     "name": "stdout",
     "output_type": "stream",
     "text": [
      "Model: \"sequential_7\"\n",
      "_________________________________________________________________\n",
      "Layer (type)                 Output Shape              Param #   \n",
      "=================================================================\n",
      "Conv_1 (Conv2D)              (None, 32, 32, 16)        448       \n",
      "_________________________________________________________________\n",
      "max_pooling2d_10 (MaxPooling (None, 16, 16, 16)        0         \n",
      "_________________________________________________________________\n",
      "Conv_2 (Conv2D)              (None, 16, 16, 128)       18560     \n",
      "_________________________________________________________________\n",
      "max_pooling2d_11 (MaxPooling (None, 8, 8, 128)         0         \n",
      "_________________________________________________________________\n",
      "Conv_3 (Conv2D)              (None, 8, 8, 256)         295168    \n",
      "_________________________________________________________________\n",
      "global_average_pooling2d_5 ( (None, 256)               0         \n",
      "_________________________________________________________________\n",
      "dense_13 (Dense)             (None, 128)               32896     \n",
      "_________________________________________________________________\n",
      "dense_14 (Dense)             (None, 100)               12900     \n",
      "_________________________________________________________________\n",
      "dense_15 (Dense)             (None, 50)                5050      \n",
      "_________________________________________________________________\n",
      "dense_16 (Dense)             (None, 10)                510       \n",
      "=================================================================\n",
      "Total params: 365,532\n",
      "Trainable params: 51,356\n",
      "Non-trainable params: 314,176\n",
      "_________________________________________________________________\n",
      "Train on 50000 samples, validate on 10000 samples\n",
      "Epoch 1/10\n",
      "50000/50000 [==============================] - 89s 2ms/sample - loss: 1.0772 - categorical_accuracy: 0.6264 - val_loss: 0.8245 - val_categorical_accuracy: 0.7059\n",
      "Epoch 2/10\n",
      "50000/50000 [==============================] - 78s 2ms/sample - loss: 0.7064 - categorical_accuracy: 0.7520 - val_loss: 0.7625 - val_categorical_accuracy: 0.7347\n",
      "Epoch 3/10\n",
      "50000/50000 [==============================] - 78s 2ms/sample - loss: 0.6586 - categorical_accuracy: 0.7693 - val_loss: 0.7548 - val_categorical_accuracy: 0.7383\n",
      "Epoch 4/10\n",
      "50000/50000 [==============================] - 79s 2ms/sample - loss: 0.6332 - categorical_accuracy: 0.7789 - val_loss: 0.7458 - val_categorical_accuracy: 0.7386\n",
      "Epoch 5/10\n",
      "50000/50000 [==============================] - 91s 2ms/sample - loss: 0.6154 - categorical_accuracy: 0.7839 - val_loss: 0.7312 - val_categorical_accuracy: 0.7495\n",
      "Epoch 6/10\n",
      "50000/50000 [==============================] - 92s 2ms/sample - loss: 0.6053 - categorical_accuracy: 0.7871 - val_loss: 0.7308 - val_categorical_accuracy: 0.7485\n",
      "Epoch 7/10\n",
      "50000/50000 [==============================] - 79s 2ms/sample - loss: 0.5977 - categorical_accuracy: 0.7908 - val_loss: 0.7424 - val_categorical_accuracy: 0.7423\n",
      "Epoch 8/10\n",
      "50000/50000 [==============================] - 78s 2ms/sample - loss: 0.5912 - categorical_accuracy: 0.7908 - val_loss: 0.7359 - val_categorical_accuracy: 0.7481\n",
      "Epoch 9/10\n",
      "50000/50000 [==============================] - 81s 2ms/sample - loss: 0.5883 - categorical_accuracy: 0.7930 - val_loss: 0.7511 - val_categorical_accuracy: 0.7374\n",
      "Epoch 10/10\n",
      "50000/50000 [==============================] - 79s 2ms/sample - loss: 0.5814 - categorical_accuracy: 0.7955 - val_loss: 0.7369 - val_categorical_accuracy: 0.7485\n"
     ]
    },
    {
     "data": {
      "text/plain": [
       "<tensorflow.python.keras.callbacks.History at 0x238b6bff4a8>"
      ]
     },
     "execution_count": 33,
     "metadata": {},
     "output_type": "execute_result"
    }
   ],
   "source": [
    "for layer in CNN_layers:\n",
    "    layer.trainable = False\n",
    "new_model.summary()\n",
    "\n",
    "new_model.compile(loss='categorical_crossentropy', \n",
    "              optimizer=Adam(),\n",
    "              metrics=['categorical_accuracy'])\n",
    "\n",
    "new_model.fit(X_train, y_train, \n",
    "          batch_size=200, \n",
    "          epochs=10,\n",
    "          validation_data=(X_test, y_test)\n",
    "          )"
   ]
  },
  {
   "cell_type": "markdown",
   "metadata": {},
   "source": [
    "# 結論: 準確率從0.7627提升至0.7955"
   ]
  },
  {
   "cell_type": "code",
   "execution_count": null,
   "metadata": {},
   "outputs": [],
   "source": []
  }
 ],
 "metadata": {
  "kernelspec": {
   "display_name": "Python 3",
   "language": "python",
   "name": "python3"
  },
  "language_info": {
   "codemirror_mode": {
    "name": "ipython",
    "version": 3
   },
   "file_extension": ".py",
   "mimetype": "text/x-python",
   "name": "python",
   "nbconvert_exporter": "python",
   "pygments_lexer": "ipython3",
   "version": "3.7.3"
  }
 },
 "nbformat": 4,
 "nbformat_minor": 2
}
